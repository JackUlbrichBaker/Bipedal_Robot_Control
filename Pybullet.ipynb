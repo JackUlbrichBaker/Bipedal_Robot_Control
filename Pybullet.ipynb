{
 "cells": [
  {
   "cell_type": "code",
   "execution_count": null,
   "id": "29b77005",
   "metadata": {},
   "outputs": [],
   "source": []
  },
  {
   "cell_type": "code",
   "execution_count": 10,
   "id": "22ce766d",
   "metadata": {},
   "outputs": [
    {
     "name": "stdout",
     "output_type": "stream",
     "text": [
      "C:\\Users\\Roxanne\\AppData\\Local\\Packages\\PythonSoftwareFoundation.Python.3.10_qbz5n2kfra8p0\\LocalCache\\local-packages\\Python310\\site-packages\\pybullet_data\n"
     ]
    }
   ],
   "source": [
    "import pybullet as p\n",
    "import pybullet_data\n",
    "import os\n",
    "import time\n",
    "\n",
    "import pybullet as p\n",
    "import pybullet_data as pd\n",
    "import math\n",
    "import time\n",
    "\n",
    "p.connect(p.GUI, options=\"--opengl2\")\n",
    "p.setAdditionalSearchPath(pd.getDataPath())\n",
    "base_path = pd.getDataPath()\n",
    "print(pd.getDataPath())"
   ]
  },
  {
   "cell_type": "code",
   "execution_count": 11,
   "id": "ccd76c53",
   "metadata": {},
   "outputs": [],
   "source": [
    "p.resetSimulation()\n",
    "\n",
    "p.setGravity(0, 0, -10)\n",
    "planeId = p.loadURDF(os.path.join(base_path, \"plane.urdf\"))\n",
    "cubeStartPos = [0, 0, .5]\n",
    "cubeStartOrientation = p.getQuaternionFromEuler([0, 0, 0])\n",
    "bip_path = \"bip/Bip.SLDASM/urdf/Bip.SLDASM.urdf\"\n",
    "bip = p.loadURDF(bip_path, cubeStartPos, cubeStartOrientation, useFixedBase = False)\n",
    "cubePos, cubeOrn = p.getBasePositionAndOrientation(boxId)\n",
    "\n",
    "useRealTimeSimulation = 0"
   ]
  },
  {
   "cell_type": "code",
   "execution_count": 23,
   "id": "711951f7",
   "metadata": {},
   "outputs": [
    {
     "ename": "ValueError",
     "evalue": "setting an array element with a sequence. The requested array has an inhomogeneous shape after 1 dimensions. The detected shape was (4,) + inhomogeneous part.",
     "output_type": "error",
     "traceback": [
      "\u001b[1;31m---------------------------------------------------------------------------\u001b[0m",
      "\u001b[1;31mValueError\u001b[0m                                Traceback (most recent call last)",
      "Cell \u001b[1;32mIn[23], line 16\u001b[0m\n\u001b[0;32m     14\u001b[0m         info[i] \u001b[38;5;241m=\u001b[39m num_mot\n\u001b[0;32m     15\u001b[0m     \u001b[38;5;28;01mreturn\u001b[39;00m num_mot\n\u001b[1;32m---> 16\u001b[0m \u001b[38;5;28mprint\u001b[39m(\u001b[43mget_motor_info\u001b[49m\u001b[43m(\u001b[49m\u001b[43mbip\u001b[49m\u001b[43m)\u001b[49m)\n",
      "Cell \u001b[1;32mIn[23], line 11\u001b[0m, in \u001b[0;36mget_motor_info\u001b[1;34m(robot)\u001b[0m\n\u001b[0;32m      8\u001b[0m \u001b[38;5;28;01mdef\u001b[39;00m \u001b[38;5;21mget_motor_info\u001b[39m(robot):\n\u001b[0;32m      9\u001b[0m     \u001b[38;5;66;03m# Input:  Robot 1\u001b[39;00m\n\u001b[0;32m     10\u001b[0m     \u001b[38;5;66;03m# Ouput:  info: num joints x [joint pos, joint Velocity, jointReactionForces, appliedJointMotorTorque]\u001b[39;00m\n\u001b[1;32m---> 11\u001b[0m     info \u001b[38;5;241m=\u001b[39m \u001b[43mnp\u001b[49m\u001b[38;5;241;43m.\u001b[39;49m\u001b[43marray\u001b[49m\u001b[43m(\u001b[49m\u001b[43mp\u001b[49m\u001b[38;5;241;43m.\u001b[39;49m\u001b[43mgetJointState\u001b[49m\u001b[43m(\u001b[49m\u001b[43mrobot\u001b[49m\u001b[43m,\u001b[49m\u001b[43m \u001b[49m\u001b[38;5;241;43m0\u001b[39;49m\u001b[43m)\u001b[49m\u001b[43m)\u001b[49m\n\u001b[0;32m     12\u001b[0m     \u001b[38;5;28;01mfor\u001b[39;00m i \u001b[38;5;129;01min\u001b[39;00m \u001b[38;5;28mrange\u001b[39m(p\u001b[38;5;241m.\u001b[39mgetNumJoints(robot)):\n\u001b[0;32m     13\u001b[0m         num_mot \u001b[38;5;241m=\u001b[39m p\u001b[38;5;241m.\u001b[39mgetJointState(robot, i)\n",
      "\u001b[1;31mValueError\u001b[0m: setting an array element with a sequence. The requested array has an inhomogeneous shape after 1 dimensions. The detected shape was (4,) + inhomogeneous part."
     ]
    }
   ],
   "source": [
    "def motor_control_pos(motors, Pos, robot):\n",
    "    # Input:  motors n x 1 matrix with motor index (int)\n",
    "    #         Pos    n x 1 matrix with desired motor position (float)\n",
    "    \n",
    "    Maxforce = 500\n",
    "    p.setJointMotorControlArray(robot, motors, targetPositions = Pos, controlMode=p.POSITION_CONTROL)\n",
    "    \n",
    "def get_motor_info(robot):\n",
    "    # Input:  Robot 1\n",
    "    # Ouput:  info: num joints x [joint pos, joint Velocity, jointReactionForces, appliedJointMotorTorque]\n",
    "    info = np.array(p.getJointState(robot, 0))\n",
    "    for i in range(p.getNumJoints(robot)):\n",
    "        num_mot = p.getJointState(robot, i)\n",
    "        info[i] = num_mot\n",
    "    return num_mot\n",
    "print(get_motor_info(bip))"
   ]
  },
  {
   "cell_type": "code",
   "execution_count": 7,
   "id": "f0e5e1cb",
   "metadata": {},
   "outputs": [
    {
     "ename": "error",
     "evalue": "Not connected to physics server.",
     "output_type": "error",
     "traceback": [
      "\u001b[1;31m---------------------------------------------------------------------------\u001b[0m",
      "\u001b[1;31merror\u001b[0m                                     Traceback (most recent call last)",
      "Cell \u001b[1;32mIn[7], line 2\u001b[0m\n\u001b[0;32m      1\u001b[0m \u001b[38;5;28;01mfor\u001b[39;00m i \u001b[38;5;129;01min\u001b[39;00m \u001b[38;5;28mrange\u001b[39m (\u001b[38;5;241m1000\u001b[39m):\n\u001b[1;32m----> 2\u001b[0m     \u001b[43mp\u001b[49m\u001b[38;5;241;43m.\u001b[39;49m\u001b[43mstepSimulation\u001b[49m\u001b[43m(\u001b[49m\u001b[43m)\u001b[49m\n\u001b[0;32m      3\u001b[0m     time\u001b[38;5;241m.\u001b[39msleep(\u001b[38;5;241m1.\u001b[39m\u001b[38;5;241m/\u001b[39m\u001b[38;5;241m240\u001b[39m)\n\u001b[0;32m      4\u001b[0m     target \u001b[38;5;241m=\u001b[39m \u001b[38;5;241m3\u001b[39m\n",
      "\u001b[1;31merror\u001b[0m: Not connected to physics server."
     ]
    }
   ],
   "source": [
    "for i in range (1000):\n",
    "    p.stepSimulation()\n",
    "    time.sleep(1./240)\n",
    "    target = 3\n",
    "    pos = target/100*i\n",
    "    motor_control_pos([0],[pos], bip)\n",
    "    \n",
    "robotPos, robotOrn = p.getBasePositionAndOrientation(boxId)\n",
    "joint_pos = getJointState()\n",
    "print(robotPos,robotOrn)"
   ]
  },
  {
   "cell_type": "code",
   "execution_count": 5,
   "id": "da34e3c7",
   "metadata": {},
   "outputs": [
    {
     "name": "stdout",
     "output_type": "stream",
     "text": [
      "rgba shape=(200, 320, 4), dtype=uint8\n"
     ]
    },
    {
     "data": {
      "image/png": "[encoded data removed]",
      "text/plain": [
       "<PIL.Image.Image image mode=RGBA size=320x200>"
      ]
     },
     "metadata": {},
     "output_type": "display_data"
    },
    {
     "name": "stdout",
     "output_type": "stream",
     "text": [
      "depth shape=(200, 320), dtype=float32, as values from 0.0 (near) to 1.0 (far)\n"
     ]
    },
    {
     "data": {
      "image/png": "[encoded data removed]",
      "text/plain": [
       "<PIL.Image.Image image mode=L size=320x200>"
      ]
     },
     "metadata": {},
     "output_type": "display_data"
    },
    {
     "name": "stdout",
     "output_type": "stream",
     "text": [
      "mask shape=(200, 320), dtype=int32, as unique values from 0 to N-1 entities, and -1 as None\n"
     ]
    },
    {
     "data": {
      "image/png": "[encoded data removed]",
      "text/plain": [
       "<PIL.Image.Image image mode=L size=320x200>"
      ]
     },
     "metadata": {},
     "output_type": "display_data"
    }
   ],
   "source": [
    "import numpy as np\n",
    "from PIL import Image\n",
    "from IPython.display import display\n",
    "\n",
    "width = 320\n",
    "height = 200\n",
    "img_arr = p.getCameraImage(\n",
    "    width,\n",
    "    height,\n",
    "    viewMatrix=p.computeViewMatrixFromYawPitchRoll(\n",
    "        cameraTargetPosition=cubePos,\n",
    "        distance=.5,\n",
    "        yaw=60,\n",
    "        pitch=-10,\n",
    "        roll=0,\n",
    "        upAxisIndex=2,\n",
    "    ),\n",
    "    projectionMatrix=p.computeProjectionMatrixFOV(\n",
    "        fov=60,\n",
    "        aspect=width/height,\n",
    "        nearVal=0.01,\n",
    "        farVal=100,\n",
    "    ),\n",
    "    shadow=True,\n",
    "    lightDirection=[1, 1, 1],\n",
    ")\n",
    "\n",
    "width, height, rgba, depth, mask = img_arr\n",
    "print(f\"rgba shape={rgba.shape}, dtype={rgba.dtype}\")\n",
    "display(Image.fromarray(rgba, 'RGBA'))\n",
    "print(f\"depth shape={depth.shape}, dtype={depth.dtype}, as values from 0.0 (near) to 1.0 (far)\")\n",
    "display(Image.fromarray((depth*255).astype('uint8')))\n",
    "print(f\"mask shape={mask.shape}, dtype={mask.dtype}, as unique values from 0 to N-1 entities, and -1 as None\")\n",
    "display(Image.fromarray(np.interp(mask, (-1, mask.max()), (0, 255)).astype('uint8')))\n"
   ]
  },
  {
   "cell_type": "code",
   "execution_count": 6,
   "id": "865a8223",
   "metadata": {},
   "outputs": [],
   "source": [
    "p.disconnect()"
   ]
  },
  {
   "cell_type": "code",
   "execution_count": null,
   "id": "e6729b82",
   "metadata": {},
   "outputs": [],
   "source": []
  }
 ],
 "metadata": {
  "kernelspec": {
   "display_name": "Python 3 (ipykernel)",
   "language": "python",
   "name": "python3"
  },
  "language_info": {
   "codemirror_mode": {
    "name": "ipython",
    "version": 3
   },
   "file_extension": ".py",
   "mimetype": "text/x-python",
   "name": "python",
   "nbconvert_exporter": "python",
   "pygments_lexer": "ipython3",
   "version": "3.10.11"
  }
 },
 "nbformat": 4,
 "nbformat_minor": 5
}
