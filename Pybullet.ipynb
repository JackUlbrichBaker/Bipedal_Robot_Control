{
 "cells": [
  {
   "cell_type": "code",
   "execution_count": null,
   "id": "84c8709b",
   "metadata": {},
   "outputs": [],
   "source": []
  },
  {
   "cell_type": "code",
   "execution_count": 1,
   "id": "1381c39d",
   "metadata": {},
   "outputs": [
    {
     "name": "stdout",
     "output_type": "stream",
     "text": [
      "C:\\Users\\Roxanne\\AppData\\Local\\Packages\\PythonSoftwareFoundation.Python.3.10_qbz5n2kfra8p0\\LocalCache\\local-packages\\Python310\\site-packages\\pybullet_data\n"
     ]
    }
   ],
   "source": [
    "import pybullet as p\n",
    "import pybullet_data\n",
    "import os\n",
    "import time\n",
    "\n",
    "import pybullet as p\n",
    "import pybullet_data as pd\n",
    "import math\n",
    "import time\n",
    "\n",
    "p.connect(p.GUI, options=\"--opengl2\")\n",
    "p.setAdditionalSearchPath(pd.getDataPath())\n",
    "base_path = pd.getDataPath()\n",
    "print(pd.getDataPath())"
   ]
  },
  {
   "cell_type": "code",
   "execution_count": 2,
   "id": "256349ae",
   "metadata": {},
   "outputs": [],
   "source": [
    "p.resetSimulation()\n",
    "\n",
    "p.setGravity(0, 0, -10)\n",
    "planeId = p.loadURDF(os.path.join(base_path, \"plane.urdf\"))\n",
    "cubeStartPos = [0, 0, 1]\n",
    "cubeStartOrientation = p.getQuaternionFromEuler([0, 0, 0])\n",
    "boxId = p.loadURDF(\"Assem1.SLDASM.urdf\", cubeStartPos, cubeStartOrientation, useFixedBase = False)\n",
    "cubePos, cubeOrn = p.getBasePositionAndOrientation(boxId)\n",
    "\n",
    "useRealTimeSimulation = 0"
   ]
  },
  {
   "cell_type": "code",
   "execution_count": 3,
   "id": "241faa8e",
   "metadata": {},
   "outputs": [
    {
     "name": "stdout",
     "output_type": "stream",
     "text": [
      "(-0.0289898072236066, -0.0114856555953193, 0.10900135784761207) (9.52296280407142e-16, -5.940780602626503e-17, -2.2485480055585118e-17, 1.0)\n"
     ]
    }
   ],
   "source": [
    "for i in range (100):\n",
    "   p.stepSimulation()\n",
    "   time.sleep(1./240.)\n",
    "cubePos, cubeOrn = p.getBasePositionAndOrientation(boxId)\n",
    "print(cubePos,cubeOrn)"
   ]
  },
  {
   "cell_type": "code",
   "execution_count": 4,
   "id": "1cf14b35",
   "metadata": {},
   "outputs": [
    {
     "name": "stdout",
     "output_type": "stream",
     "text": [
      "rgba shape=(200, 320, 4), dtype=uint8\n"
     ]
    },
    {
     "data": {
      "image/png": "[encoded data removed]",
      "text/plain": [
       "<PIL.Image.Image image mode=RGBA size=320x200>"
      ]
     },
     "metadata": {},
     "output_type": "display_data"
    },
    {
     "name": "stdout",
     "output_type": "stream",
     "text": [
      "depth shape=(200, 320), dtype=float32, as values from 0.0 (near) to 1.0 (far)\n"
     ]
    },
    {
     "data": {
      "image/png": "[encoded data removed]",
      "text/plain": [
       "<PIL.Image.Image image mode=L size=320x200>"
      ]
     },
     "metadata": {},
     "output_type": "display_data"
    },
    {
     "name": "stdout",
     "output_type": "stream",
     "text": [
      "mask shape=(200, 320), dtype=int32, as unique values from 0 to N-1 entities, and -1 as None\n"
     ]
    },
    {
     "data": {
      "image/png": "[encoded data removed]",
      "text/plain": [
       "<PIL.Image.Image image mode=L size=320x200>"
      ]
     },
     "metadata": {},
     "output_type": "display_data"
    }
   ],
   "source": [
    "import numpy as np\n",
    "from PIL import Image\n",
    "from IPython.display import display\n",
    "\n",
    "width = 320\n",
    "height = 200\n",
    "img_arr = p.getCameraImage(\n",
    "    width,\n",
    "    height,\n",
    "    viewMatrix=p.computeViewMatrixFromYawPitchRoll(\n",
    "        cameraTargetPosition=[0, 0, 0],\n",
    "        distance=4,\n",
    "        yaw=60,\n",
    "        pitch=-10,\n",
    "        roll=0,\n",
    "        upAxisIndex=2,\n",
    "    ),\n",
    "    projectionMatrix=p.computeProjectionMatrixFOV(\n",
    "        fov=60,\n",
    "        aspect=width/height,\n",
    "        nearVal=0.01,\n",
    "        farVal=100,\n",
    "    ),\n",
    "    shadow=True,\n",
    "    lightDirection=[1, 1, 1],\n",
    ")\n",
    "\n",
    "width, height, rgba, depth, mask = img_arr\n",
    "print(f\"rgba shape={rgba.shape}, dtype={rgba.dtype}\")\n",
    "display(Image.fromarray(rgba, 'RGBA'))\n",
    "print(f\"depth shape={depth.shape}, dtype={depth.dtype}, as values from 0.0 (near) to 1.0 (far)\")\n",
    "display(Image.fromarray((depth*255).astype('uint8')))\n",
    "print(f\"mask shape={mask.shape}, dtype={mask.dtype}, as unique values from 0 to N-1 entities, and -1 as None\")\n",
    "display(Image.fromarray(np.interp(mask, (-1, mask.max()), (0, 255)).astype('uint8')))\n",
    "p.disconnect()"
   ]
  },
  {
   "cell_type": "code",
   "execution_count": null,
   "id": "2b3782d4",
   "metadata": {},
   "outputs": [],
   "source": []
  },
  {
   "cell_type": "code",
   "execution_count": null,
   "id": "0925e058",
   "metadata": {},
   "outputs": [],
   "source": []
  }
 ],
 "metadata": {
  "kernelspec": {
   "display_name": "Python 3 (ipykernel)",
   "language": "python",
   "name": "python3"
  },
  "language_info": {
   "codemirror_mode": {
    "name": "ipython",
    "version": 3
   },
   "file_extension": ".py",
   "mimetype": "text/x-python",
   "name": "python",
   "nbconvert_exporter": "python",
   "pygments_lexer": "ipython3",
   "version": "3.10.11"
  }
 },
 "nbformat": 4,
 "nbformat_minor": 5
}
