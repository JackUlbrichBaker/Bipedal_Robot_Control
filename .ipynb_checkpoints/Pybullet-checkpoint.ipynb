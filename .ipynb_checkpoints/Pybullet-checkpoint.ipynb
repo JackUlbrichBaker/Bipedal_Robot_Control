{
 "cells": [
  {
   "cell_type": "code",
   "execution_count": 1,
   "id": "4ff184ef",
   "metadata": {},
   "outputs": [
    {
     "name": "stdout",
     "output_type": "stream",
     "text": [
      "C:\\Users\\Roxanne\\AppData\\Local\\Packages\\PythonSoftwareFoundation.Python.3.10_qbz5n2kfra8p0\\LocalCache\\local-packages\\Python310\\site-packages\\pybullet_data\n"
     ]
    }
   ],
   "source": [
    "import pybullet as p\n",
    "import pybullet_data\n",
    "import os\n",
    "import time\n",
    "\n",
    "import pybullet as p\n",
    "import pybullet_data as pd\n",
    "import math\n",
    "import time\n",
    "\n",
    "p.connect(p.GUI)\n",
    "p.setAdditionalSearchPath(pd.getDataPath())\n",
    "print(pd.getDataPath())"
   ]
  },
  {
   "cell_type": "code",
   "execution_count": null,
   "id": "464007ef",
   "metadata": {},
   "outputs": [],
   "source": [
    "p.setGravity(0, 0, -10)\n",
    "planeId = p.loadURDF(\"plane.urdf\")\n",
    "cubeStartPos = [0, 0, 1]\n",
    "cubeStartOrientation = p.getQuaternionFromEuler([0, 0, 0])\n",
    "boxId = p.loadURDF(os.path.join(pybullet_data.getDataPath(), \"cube.urdf\", cubeStartPos, cubeStartOrientation))\n",
    "cubePos, cubeOrn = p.getBasePositionAndOrientation(boxId)\n",
    "\n",
    "useRealTimeSimulation = 0"
   ]
  },
  {
   "cell_type": "code",
   "execution_count": null,
   "id": "9993c3d9",
   "metadata": {},
   "outputs": [],
   "source": [
    "for i in range (10000):\n",
    "   p.stepSimulation()\n",
    "   time.sleep(1./240.)\n",
    "cubePos, cubeOrn = p.getBasePositionAndOrientation(boxId)\n",
    "print(cubePos,cubeOrn)\n",
    "p.disconnect()"
   ]
  },
  {
   "cell_type": "code",
   "execution_count": null,
   "id": "29f2e36c",
   "metadata": {},
   "outputs": [],
   "source": []
  }
 ],
 "metadata": {
  "kernelspec": {
   "display_name": "Python 3 (ipykernel)",
   "language": "python",
   "name": "python3"
  },
  "language_info": {
   "codemirror_mode": {
    "name": "ipython",
    "version": 3
   },
   "file_extension": ".py",
   "mimetype": "text/x-python",
   "name": "python",
   "nbconvert_exporter": "python",
   "pygments_lexer": "ipython3",
   "version": "3.10.11"
  }
 },
 "nbformat": 4,
 "nbformat_minor": 5
}
